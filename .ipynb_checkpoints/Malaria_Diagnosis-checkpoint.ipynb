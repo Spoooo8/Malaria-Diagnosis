{
 "cells": [
  {
   "cell_type": "code",
   "execution_count": null,
   "id": "46a93d59-68d6-4f82-9348-01596073ff4d",
   "metadata": {},
   "outputs": [],
   "source": [
    "import tensorflow as tf\n",
    "import tensorflow_datasets as tfds\n",
    "import matplotlib.pyplot as plt"
   ]
  },
  {
   "cell_type": "code",
   "execution_count": null,
   "id": "f055f55f-7cea-4446-8bd0-8d44d5998ebb",
   "metadata": {},
   "outputs": [],
   "source": [
    "dataset_name = 'malaria'\n",
    "builder = tfds.builder(dataset_name)\n",
    "builder.download_and_prepare()"
   ]
  },
  {
   "cell_type": "code",
   "execution_count": null,
   "id": "e85d7998-3b19-45d5-a7e8-21f14b4ccc1b",
   "metadata": {},
   "outputs": [],
   "source": [
    "dataset = builder.as_dataset()\n",
    "train_dataset = dataset['train']"
   ]
  },
  {
   "cell_type": "code",
   "execution_count": null,
   "id": "ed54735f-eaa6-435e-8244-bd6b39b5836d",
   "metadata": {},
   "outputs": [],
   "source": [
    "dataset"
   ]
  },
  {
   "cell_type": "code",
   "execution_count": null,
   "id": "b0460490-1257-4a6b-8f0e-3d29df89ab5b",
   "metadata": {},
   "outputs": [],
   "source": [
    "for data in dataset['train'].take(1):\n",
    "  print(data)"
   ]
  },
  {
   "cell_type": "code",
   "execution_count": null,
   "id": "ca31ebc6-9a50-4dba-aff3-8a4128939457",
   "metadata": {},
   "outputs": [],
   "source": [
    "def splits(dataset, TRAIN_RATIO, VAL_RATIO, TEST_RATIO):\n",
    "  DATASET_SIZE = len(dataset)\n",
    "\n",
    "  train_dataset = dataset.take(int(TRAIN_RATIO*DATASET_SIZE))\n",
    "\n",
    "  val_test_dataset = dataset.skip(int(TRAIN_RATIO*DATASET_SIZE))\n",
    "  val_dataset = val_test_dataset.take(int(VAL_RATIO*DATASET_SIZE))\n",
    "\n",
    "  test_dataset = val_test_dataset.skip(int(VAL_RATIO*DATASET_SIZE))\n",
    "  return train_dataset, val_dataset, test_dataset"
   ]
  },
  {
   "cell_type": "code",
   "execution_count": null,
   "id": "95e563f2-bcf5-4ce0-a268-f12f15b320f7",
   "metadata": {},
   "outputs": [],
   "source": [
    "TRAIN_RATIO = 0.8\n",
    "VAL_RATIO = 0.1\n",
    "TEST_RATIO = 0.1\n",
    "\n",
    "train_dataset, val_dataset, test_dataset = splits(dataset['train'], TRAIN_RATIO, VAL_RATIO, TEST_RATIO )"
   ]
  },
  {
   "cell_type": "code",
   "execution_count": null,
   "id": "924267d5-fbff-4171-871c-52e5c535fe27",
   "metadata": {},
   "outputs": [],
   "source": [
    "train_dataset"
   ]
  },
  {
   "cell_type": "markdown",
   "id": "ce5d5265-9a09-436e-ad11-2a2399353faa",
   "metadata": {},
   "source": [
    "# Data Visualization"
   ]
  },
  {
   "cell_type": "code",
   "execution_count": null,
   "id": "63feb128-7745-4709-9497-1a37fc403519",
   "metadata": {},
   "outputs": [],
   "source": [
    "import tensorflow as tf\n",
    "import tensorflow_datasets as tfds\n",
    "import matplotlib.pyplot as plt\n",
    "def select_image():\n",
    "    root = Tk()\n",
    "    root.withdraw()\n",
    "    file_path = filedialog.askopenfilename(title=\"Select an Image\",\n",
    "                                           filetypes=[(\"Image files\", \"*.jpg *.jpeg *.png *.bmp *.tiff\")])\n",
    "    if not file_path:\n",
    "        raise ValueError(\"No file selected!\")\n",
    "    return file_path\n",
    "# Load the malaria dataset\n",
    "dataset_name = 'malaria'\n",
    "builder = tfds.builder(dataset_name)\n",
    "builder.download_and_prepare()\n",
    "\n",
    "# Load the dataset with labels\n",
    "dataset = builder.as_dataset(split='train')\n",
    "\n",
    "# Visualize some images\n",
    "plt.figure(figsize=(10, 10))\n",
    "for example in dataset.take(9):  # Take first 9 examples\n",
    "    image = example['image']\n",
    "    label = example['label']\n",
    "\n",
    "    plt.subplot(3, 3, label.numpy() + 1)\n",
    "    plt.imshow(image.numpy())\n",
    "    plt.title(f'Label: {label.numpy()}')\n",
    "    plt.axis('off')\n",
    "\n",
    "plt.tight_layout()\n",
    "plt.show()"
   ]
  },
  {
   "cell_type": "code",
   "execution_count": null,
   "id": "230031a2-2499-4c35-8d20-7a5018eef68d",
   "metadata": {},
   "outputs": [],
   "source": [
    "import cv2\n",
    "import numpy as np\n",
    "import matplotlib.pyplot as plt\n",
    "from tkinter import Tk, filedialog\n",
    "def select_image():\n",
    "    root = Tk()\n",
    "    root.withdraw()\n",
    "    file_path = filedialog.askopenfilename(title=\"Select an Image\",\n",
    "                                           filetypes=[(\"Image files\", \"*.jpg *.jpeg *.png *.bmp *.tiff\")])\n",
    "    if not file_path:\n",
    "        raise ValueError(\"No file selected!\")\n",
    "    return file_path\n",
    "def load_image(image_path):\n",
    "    img = cv2.imread(image_path, cv2.IMREAD_GRAYSCALE)\n",
    "    if img is None:\n",
    "        raise FileNotFoundError(f\"Error: The file {image_path} does not exist or is not an image.\")\n",
    "    return img\n",
    "    \n",
    "def increase_intensity(image, value, threshold=None):\n",
    "    # Create a copy of the image to avoid modifying the original\n",
    "    modified_image = image.copy()\n",
    "    \n",
    "    if threshold is not None:\n",
    "        # Increase intensity of pixels above the threshold\n",
    "        modified_image[image > threshold] = np.clip(image[image > threshold] + value, 0, 255)\n",
    "    else:\n",
    "        # Increase intensity of all pixels\n",
    "        modified_image = np.clip(image + value, 0, 255)\n",
    "    \n",
    "    return modified_image\n",
    "    \n",
    "def enhance_darker_shades(image, value, threshold=None):\n",
    "    # Create a copy of the image to avoid modifying the original\n",
    "    modified_image = image.copy()\n",
    "    \n",
    "    if threshold is not None:\n",
    "        # Increase intensity of pixels below the threshold (darker shades)\n",
    "        modified_image[image < threshold] = np.clip(image[image < threshold] + value, 0, 255)\n",
    "    \n",
    "    return modified_image\n",
    "\n",
    "def display_image(img, title='Image', cmap='gray'):\n",
    "    plt.figure(figsize=(6, 6))\n",
    "    plt.imshow(img, cmap=cmap)\n",
    "    plt.title(title)\n",
    "    plt.axis('off')\n",
    "    plt.show()\n",
    "    \n",
    "def canny_edge_detection(image):\n",
    "    # Load image\n",
    "    img = image\n",
    "    \n",
    "    # Apply Gaussian Blur to smooth the image\n",
    "    blurred_img = cv2.GaussianBlur(img, (5, 5), 1.4)\n",
    "    \n",
    "    # Perform Canny edge detection\n",
    "    edges = cv2.Canny(blurred_img, 100, 200)\n",
    "    \n",
    "    # Display the original and edge-detected images\n",
    "    display_image(edges, title='Canny Edge Detection')\n",
    "    kernel = np.ones((5, 5), np.uint8)\n",
    "    \n",
    "    # Apply dilation and erosion\n",
    "    dilated = cv2.dilate(edges, kernel, iterations=1)\n",
    "    eroded = cv2.erode(dilated, kernel, iterations=1)\n",
    "    \n",
    "    return eroded\n",
    "# Example usage\n",
    "#image_path = 'C37BP2_thinF_IMG_20150620_133111a_cell_86.png'\n",
    "#original_image = load_image(image_path)\n",
    "\n",
    "image_path = select_image()\n",
    "original_image = load_image(image_path)\n",
    "\n",
    "# Enhance darker shades by increasing intensity of pixels below a certain threshold by 50\n",
    "threshold = 1# Example threshold for darker shades\n",
    "#threshold1 = 100\n",
    "\n",
    "#increased_intensity_image_threshold = increase_intensity(original_image, value=50, threshold=threshold1)\n",
    "increased_intensity_darker_shades = enhance_darker_shades(original_image , value=50, threshold=threshold)\n",
    "\n",
    "\n",
    "# Display original and modified images\n",
    "display_image(original_image, title='Original Image')\n",
    "#display_image(increased_intensity_image_threshold, title=f'Increased Intensity (Pixels > {threshold})')\n",
    "display_image(increased_intensity_darker_shades, title=f'Enhanced Darker Shades (Pixels < {threshold})')\n",
    "\n",
    "morphed_image =canny_edge_detection(increased_intensity_darker_shades)\n",
    "display_image(morphed_image, title='Morphological Operations')"
   ]
  },
  {
   "cell_type": "code",
   "execution_count": 2,
   "id": "8909d6d3-bed6-4084-b384-1a21a10192ae",
   "metadata": {},
   "outputs": [],
   "source": [
    "import cv2\n",
    "import numpy as np\n",
    "from IPython.display import Image, display\n",
    "from matplotlib import pyplot as plt"
   ]
  },
  {
   "cell_type": "code",
   "execution_count": null,
   "id": "2e3b2aef-9ac5-4ec7-8fd5-5edbafa5aaeb",
   "metadata": {},
   "outputs": [],
   "source": []
  },
  {
   "cell_type": "code",
   "execution_count": 3,
   "id": "adaf0194-fbc9-4825-9e74-422a9d0486b5",
   "metadata": {},
   "outputs": [
    {
     "data": {
      "image/png": "[encoded data removed]",
      "text/plain": [
       "<IPython.core.display.Image object>"
      ]
     },
     "metadata": {},
     "output_type": "display_data"
    }
   ],
   "source": [
    "import cv2\n",
    "import numpy as np\n",
    "import matplotlib.pyplot as plt\n",
    "from tkinter import Tk, filedialog\n",
    "# Plot the image\n",
    "def imshow(img, ax=None):\n",
    "\tif ax is None:\n",
    "\t\tret, encoded = cv2.imencode(\".jpg\", img)\n",
    "\t\tdisplay(Image(encoded))\n",
    "\telse:\n",
    "\t\tax.imshow(cv2.cvtColor(img, cv2.COLOR_BGR2RGB))\n",
    "\t\tax.axis('off')\n",
    "def select_image():\n",
    "    root = Tk()\n",
    "    root.withdraw()\n",
    "    file_path = filedialog.askopenfilename(title=\"Select an Image\",\n",
    "                                           filetypes=[(\"Image files\", \"*.jpg *.jpeg *.png *.bmp *.tiff\")])\n",
    "    if not file_path:\n",
    "        raise ValueError(\"No file selected!\")\n",
    "    return file_path\n",
    "#Image loading\n",
    "image_path = select_image()\n",
    "#img = load_image(image_path)\n",
    "img = cv2.imread(image_path)\n",
    "#img = cv2.imread(\"C33P1thinF_IMG_20150619_115740a_cell_162.png\")\n",
    "# Show image\n",
    "imshow(img)\n"
   ]
  },
  {
   "cell_type": "code",
   "execution_count": 5,
   "id": "b44258ef-fd98-4b93-9cb2-6ba717a46a14",
   "metadata": {},
   "outputs": [
    {
     "data": {
      "image/png": "[encoded data removed]",
      "text/plain": [
       "<IPython.core.display.Image object>"
      ]
     },
     "metadata": {},
     "output_type": "display_data"
    }
   ],
   "source": [
    "#image grayscale conversion\n",
    "gray = cv2.cvtColor(img, cv2.COLOR_BGR2GRAY)\n",
    "imshow(gray)\n"
   ]
  },
  {
   "cell_type": "code",
   "execution_count": 6,
   "id": "9e8e11b5-251a-4299-8350-a4b5c4fe1b42",
   "metadata": {},
   "outputs": [
    {
     "data": {
      "image/png": "[encoded data removed]",
      "text/plain": [
       "<IPython.core.display.Image object>"
      ]
     },
     "metadata": {},
     "output_type": "display_data"
    }
   ],
   "source": [
    "#Threshold Processing\n",
    "ret, bin_img = cv2.threshold(gray,\n",
    "\t\t\t\t\t\t\t0, 255, \n",
    "\t\t\t\t\t\t\tcv2.THRESH_BINARY_INV + cv2.THRESH_OTSU)\n",
    "imshow(bin_img)"
   ]
  },
  {
   "cell_type": "code",
   "execution_count": 8,
   "id": "fff0a062-8c14-47a4-83f2-f8e53a0d2925",
   "metadata": {},
   "outputs": [
    {
     "data": {
      "image/png": "[encoded data removed]",
      "text/plain": [
       "<IPython.core.display.Image object>"
      ]
     },
     "metadata": {},
     "output_type": "display_data"
    }
   ],
   "source": [
    "# noise removal\n",
    "kernel = cv2.getStructuringElement(cv2.MORPH_RECT, (3, 3))\n",
    "bin_img = cv2.morphologyEx(bin_img, \n",
    "\t\t\t\t\t\tcv2.MORPH_OPEN,\n",
    "\t\t\t\t\t\tkernel,\n",
    "\t\t\t\t\t\titerations=2)\n",
    "imshow(bin_img)\n"
   ]
  },
  {
   "cell_type": "code",
   "execution_count": 9,
   "id": "2e55bde0-457c-4f9f-9baf-25bbe1f62449",
   "metadata": {},
   "outputs": [
    {
     "data": {
      "text/plain": [
       "<matplotlib.image.AxesImage at 0x24b4b3cde50>"
      ]
     },
     "execution_count": 9,
     "metadata": {},
     "output_type": "execute_result"
    },
    {
     "data": {
      "image/png": "[encoded data removed]",
      "text/plain": [
       "<Figure size 640x480 with 1 Axes>"
      ]
     },
     "metadata": {},
     "output_type": "display_data"
    }
   ],
   "source": [
    "# sure background area\n",
    "kernel = cv2.getStructuringElement(cv2.MORPH_RECT, (3, 3))\n",
    "sure_bg = cv2.dilate(bin_img, kernel, iterations=3)\n",
    "plt.imshow(sure_bg, cmap='gray')"
   ]
  },
  {
   "cell_type": "code",
   "execution_count": 97,
   "id": "45323f71-9c3d-48c0-917e-fa2ff39bed2e",
   "metadata": {},
   "outputs": [
    {
     "data": {
      "image/png": "[encoded data removed]",
      "text/plain": [
       "<Figure size 640x480 with 1 Axes>"
      ]
     },
     "metadata": {},
     "output_type": "display_data"
    }
   ],
   "source": [
    "des = cv2.bitwise_not(sure_bg)\n",
    "\n",
    "# Find contours\n",
    "contours, hierarchy = cv2.findContours(des, cv2.RETR_CCOMP, cv2.CHAIN_APPROX_SIMPLE)\n",
    "\n",
    "# Draw the contours on the inverted image\n",
    "for cnt in contours:\n",
    "    cv2.drawContours(des, [cnt], 0, 255, -1)\n",
    "\n",
    "# Invert the image back to the original state\n",
    "gray = cv2.bitwise_not(des)\n",
    "\n",
    "# Save or display the result\n",
    "plt.imshow(gray, cmap='gray')\n",
    "plt.title('Processed Image')\n",
    "plt.axis('off')  # Hide axes\n",
    "plt.show()\n",
    "\n"
   ]
  },
  {
   "cell_type": "code",
   "execution_count": 98,
   "id": "6c000400-9ad3-44b7-9890-353a35e2e4ba",
   "metadata": {},
   "outputs": [
    {
     "name": "stdout",
     "output_type": "stream",
     "text": [
      "Sum of Absolute Differences: 84405\n"
     ]
    }
   ],
   "source": [
    "# Read the images\n",
    "image1 = gray\n",
    "image2 = sure_bg\n",
    "\n",
    "# Ensure the images have the same size\n",
    "if image1.shape != image2.shape:\n",
    "    raise ValueError(\"Images must have the same dimensions\")\n",
    "\n",
    "# Subtract the images\n",
    "diff = cv2.absdiff(image1, image2)\n",
    "\n",
    "# Compute the sum of absolute differences\n",
    "sad = np.sum(diff)\n",
    "\n",
    "print(f'Sum of Absolute Differences: {sad}')\n"
   ]
  }
 ],
 "metadata": {
  "kernelspec": {
   "display_name": "Python 3 (ipykernel)",
   "language": "python",
   "name": "python3"
  },
  "language_info": {
   "codemirror_mode": {
    "name": "ipython",
    "version": 3
   },
   "file_extension": ".py",
   "mimetype": "text/x-python",
   "name": "python",
   "nbconvert_exporter": "python",
   "pygments_lexer": "ipython3",
   "version": "3.11.7"
  }
 },
 "nbformat": 4,
 "nbformat_minor": 5
}
